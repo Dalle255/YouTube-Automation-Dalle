{
  "nbformat": 4,
  "nbformat_minor": 0,
  "metadata": {
    "colab": { "provenance": [] },
    "kernelspec": { "name": "python3", "display_name": "Python 3" },
    "language_info": { "name": "python" }
  },
  "cells": [
    { "cell_type": "markdown",
      "metadata": { "id": "Rnt1zYKUtYy8" },
      "source": [ "1️⃣ Secrets & API-key bootstrap" ] },

    { "cell_type": "code",
      "metadata": { "id": "mGMYG1pYtZ2I" },
      "execution_count": null,
      "outputs": [],
      "source": [
        "# ────────────────────────────────────────────────────────────────────────\n",
        "#  SECRETS → LOCAL FILES  |  runs before any other import\n",
        "# ────────────────────────────────────────────────────────────────────────\n",
        "import os, base64, pathlib\n",
        "import openai\n",
        "from openai import OpenAI\n",
        "\n",
        "def _decode(secret_name: str, out_file: str):\n",
        "    \"\"\"Decode a Base-64 GitHub secret onto disk.\"\"\"\n",
        "    pathlib.Path(out_file).write_bytes(\n",
        "        base64.b64decode(os.environ[secret_name])\n",
        "    )\n",
        "\n",
        "_decode(\"CLIENT_SECRETS_JSON\", \"client_secrets.json\")\n",
        "_decode(\"TOKEN_JSON\",          \"token.json\")\n",
        "\n",
        "openai.api_key = os.environ[\"OPENAI_API_KEY\"]\n",
        "client = OpenAI()\n",
        "print(\"✅ Secrets decoded, OpenAI client ready.\")\n"
      ] },

    … <unchanged cells 2-3-4 etc.> …,

    { "cell_type": "code",
      "metadata": { "id": "cyCJEkTiTYHG" },
      "execution_count": null,
      "outputs": [],
      "source": [
        "# ─── 4 .2  Flatten text & generate TTS narration ───────────────────────\n",
        "from moviepy import AudioFileClip              # ← new top-level import\n",
        "\n",
        "def generate_tts(text, filename):\n",
        "    … <unchanged> …\n"
      ] },

    … <unchanged until section 5> …,

    { "cell_type": "code",
      "metadata": { "id": "WBCeHr1aHU1E" },
      "execution_count": null,
      "outputs": [],
      "source": [
        "# ─── gameplay fetch (unchanged) ────────────────────────────────────────\n",
        "…\n",
        "from moviepy import (\n",
        "    VideoFileClip, CompositeVideoClip, concatenate_videoclips,\n",
        "    ColorClip, ImageClip, AudioFileClip, CompositeAudioClip\n",
        ")\n",
        "import moviepy.video.fx.all as vfx   # unified FX namespace\n",
        "import moviepy.audio.fx.all as afx\n",
        "\n",
        "text_font      = \"/usr/share/fonts/truetype/dejavu/DejaVuSans-Bold.ttf\"\n",
        "text_fontsize  = 60\n",
        "W, H           = output_width, output_height\n",
        "half_h         = H // 2\n",
        "\n",
        "# 1) Top half: gameplay – crop → resize → loop\n",
        "gameplay = (\n",
        "    VideoFileClip(\"gameplay_trimmed.mp4\")\n",
        "      .cropped(y1=lambda clip: clip.h*0.12, y2=lambda clip: clip.h*0.88)\n",
        "      .resized((W, half_h))\n",
        "      .looped(duration=clip_duration)\n",
        ")\n",
        "\n",
        "# 2) Bottom half: Pexels clips (each .resized; no explicit resize_fx)\n",
        "…\n",
        "sub = clip.resized((W, half_h)).subclip(0, take).set_duration(take)\n",
        "…\n",
        "\n",
        "# 8) Background music now repeats via AudioLoop effect\n",
        "bg_music = (\n",
        "    AudioFileClip(\"music.mp3\").volumex(0.2)\n",
        "      .with_effects([afx.AudioLoop(duration=video_final.duration)])\n",
        ")\n",
        "… <rest unchanged> …\n"
      ] }

    … <remaining cells unchanged except MoviePy imports removed from them> …
  ]
}
